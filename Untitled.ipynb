{
 "cells": [
  {
   "cell_type": "code",
   "execution_count": 6,
   "id": "cf92382a",
   "metadata": {},
   "outputs": [],
   "source": [
    "import numpy as np \n",
    "import pandas as pd \n",
    "from PIL import Image\n",
    "from scipy.ndimage import rotate\n",
    "import tensorflow as tf"
   ]
  },
  {
   "cell_type": "code",
   "execution_count": 7,
   "id": "942b2945",
   "metadata": {},
   "outputs": [],
   "source": [
    "def convert_values_to_image(image_values, display=False):\n",
    "  image_array = np.asarray(image_values)\n",
    "  image_array = image_array.reshape(32, 32).astype('uint8')\n",
    "# #   The original dataset is reflected so we will flip it then rotate for a better view only.\n",
    "#   image_array = np.flip(image_array, 0)\n",
    "#   image_array = rotate(image_array, -90)\n",
    "  new_image = Image.fromarray(image_array)\n",
    "  if display == True:\n",
    "    new_image.show()\n",
    "  return new_image\n",
    "\n",
    "# In the following function we mapped the categorical output with the Arabic letters to help us better identifing the classes.\n",
    "def convert_categorical_label_to_real_label(categorical_label):\n",
    "  real_labels = []\n",
    "  real_labels.extend(['أ', 'ب', 'ت', 'ث', 'ج', 'ح', 'خ', 'د', 'ذ', 'ر', 'ز', 'س', 'ش', 'ص', 'ض', 'ط', 'ظ', 'ع', 'غ', 'ف', 'ق', 'ك', 'ل', 'م', 'ن', 'ه', 'و', 'ى'])\n",
    "  return real_labels[categorical_label]\n",
    "\n",
    "def get_predicted_classes(model, data, labels=None):\n",
    "  image_predictions = model.predict(data)\n",
    "  predicted_classes = np.argmax(image_predictions, axis=1)\n",
    "  true_classes = np.argmax(labels, axis=1)\n",
    "  return predicted_classes, true_classes"
   ]
  },
  {
   "cell_type": "code",
   "execution_count": 10,
   "id": "940b1e88",
   "metadata": {},
   "outputs": [],
   "source": [
    "train_data_x = pd.read_csv('hijja2\\Hijja2-master\\X_train.csv', header=0)# Then we load the training images.\n",
    "train_data_y = pd.read_csv('hijja2\\Hijja2-master\\y_train.csv', header=0)    # Training labels.\n",
    "test_data_x = pd.read_csv('hijja2\\Hijja2-master\\X_test.csv', header=0)   # Testing images.\n",
    "test_data_y = pd.read_csv('hijja2\\Hijja2-master\\y_test.csv', header=0)       # Testing labels."
   ]
  },
  {
   "cell_type": "markdown",
   "id": "5f5962eb",
   "metadata": {},
   "source": [
    "## Testing Model"
   ]
  },
  {
   "cell_type": "code",
   "execution_count": 8,
   "id": "4d8de334",
   "metadata": {},
   "outputs": [],
   "source": [
    "# Now lets load our model and test it on our custom images.\n",
    "model = tf.keras.models.load_model('my_model_v2.0.h5')                      # Now we load the model"
   ]
  },
  {
   "cell_type": "code",
   "execution_count": 11,
   "id": "251b3ecb",
   "metadata": {
    "scrolled": true
   },
   "outputs": [
    {
     "data": {
      "image/png": "[encoded data removed]",
      "text/plain": [
       "<PIL.Image.Image image mode=L size=32x32 at 0x1258C8BB280>"
      ]
     },
     "execution_count": 11,
     "metadata": {},
     "output_type": "execute_result"
    }
   ],
   "source": [
    "convert_values_to_image(train_data_x.loc[3135], True)"
   ]
  },
  {
   "cell_type": "code",
   "execution_count": 12,
   "id": "8c5c9c43",
   "metadata": {},
   "outputs": [
    {
     "data": {
      "text/plain": [
       "pixel0       0\n",
       "pixel1       0\n",
       "pixel2       0\n",
       "pixel3       0\n",
       "pixel4       0\n",
       "            ..\n",
       "pixel1019    0\n",
       "pixel1020    0\n",
       "pixel1021    0\n",
       "pixel1022    0\n",
       "pixel1023    0\n",
       "Name: 3135, Length: 1024, dtype: int64"
      ]
     },
     "execution_count": 12,
     "metadata": {},
     "output_type": "execute_result"
    }
   ],
   "source": [
    "train_data_x.loc[3135]"
   ]
  },
  {
   "cell_type": "code",
   "execution_count": 13,
   "id": "4c91b03a",
   "metadata": {},
   "outputs": [
    {
     "data": {
      "text/plain": [
       "<function numpy.asarray(a, dtype=None, order=None)>"
      ]
     },
     "execution_count": 13,
     "metadata": {},
     "output_type": "execute_result"
    }
   ],
   "source": [
    "np.asarray"
   ]
  },
  {
   "cell_type": "markdown",
   "id": "39360a71",
   "metadata": {},
   "source": [
    "## Comparing Evaluation Metrics between Benchmark Model and Final Model"
   ]
  },
  {
   "cell_type": "markdown",
   "id": "c2bfe161",
   "metadata": {},
   "source": [
    "Making a method which will print all metrics (precision, recall, f1-score and support) with each class in the dataset."
   ]
  },
  {
   "cell_type": "code",
   "execution_count": null,
   "id": "79910e19",
   "metadata": {},
   "outputs": [],
   "source": [
    "from sklearn.metrics import classification_report\n",
    "\n",
    "def get_classification_report(y_true, y_pred):\n",
    "  print(classification_report(y_true, y_pred))"
   ]
  },
  {
   "cell_type": "markdown",
   "id": "024e4448",
   "metadata": {},
   "source": [
    "### Evaluating Final Model using the specified metrics"
   ]
  },
  {
   "cell_type": "code",
   "execution_count": null,
   "id": "6b1daddb",
   "metadata": {},
   "outputs": [],
   "source": [
    "y_pred, y_true = get_predicted_classes(model, testing_data_images, testing_data_labels)\n",
    "get_classification_report(y_true, y_pred)"
   ]
  },
  {
   "cell_type": "markdown",
   "id": "4fc924b3",
   "metadata": {},
   "source": [
    "### Evaluating Baseline (Benchmark) Model using the specified metrics"
   ]
  },
  {
   "cell_type": "code",
   "execution_count": null,
   "id": "b9582a27",
   "metadata": {},
   "outputs": [],
   "source": [
    "y_pred, y_true = get_predicted_classes(baseline_model, testing_data_images, testing_data_labels)\n",
    "get_classification_report(y_true, y_pred)"
   ]
  },
  {
   "cell_type": "code",
   "execution_count": null,
   "id": "d25b3cab",
   "metadata": {},
   "outputs": [],
   "source": [
    "import seaborn as sns\n",
    "sns.histplot(data=baseline_model)"
   ]
  },
  {
   "cell_type": "markdown",
   "id": "f4ac9cc9",
   "metadata": {},
   "source": [
    "## A Demo to see how the model works on examples of the testing data"
   ]
  },
  {
   "cell_type": "markdown",
   "id": "25413c84",
   "metadata": {},
   "source": [
    "Let's recall:\n",
    "* Digits from 0 to 9 were encoded to categorical labels from 0 to 9\n",
    "* Letters from ’alef’='أ' to ’yeh’='ى' were encoded to categorical labels from 10 to 37\n",
    "\n",
    "**Recall that we have used One Hot Encoding which transforms integer to a binary matrix where the array contains only one ‘1’ and the rest elements are ‘0’.**"
   ]
  },
  {
   "cell_type": "code",
   "execution_count": null,
   "id": "37ea7600",
   "metadata": {},
   "outputs": [],
   "source": []
  }
 ],
 "metadata": {
  "kernelspec": {
   "display_name": "Python 3 (ipykernel)",
   "language": "python",
   "name": "python3"
  },
  "language_info": {
   "codemirror_mode": {
    "name": "ipython",
    "version": 3
   },
   "file_extension": ".py",
   "mimetype": "text/x-python",
   "name": "python",
   "nbconvert_exporter": "python",
   "pygments_lexer": "ipython3",
   "version": "3.8.8"
  }
 },
 "nbformat": 4,
 "nbformat_minor": 5
}
